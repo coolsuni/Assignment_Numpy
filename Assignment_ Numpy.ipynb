{
 "cells": [
  {
   "cell_type": "code",
   "execution_count": 2,
   "id": "44868e94-922e-4d22-932c-cc7644a1133c",
   "metadata": {},
   "outputs": [],
   "source": [
    "#1)what is python library? why do we use it?\n",
    "\n",
    "\n",
    "#A Python library is a collection of code and information that extends the capabilities \n",
    "#of the Python programming language. Libraries provide developers with a variety of tools \n",
    "#and modules to perform specific tasks more efficiently, without having to reinvent the wheel.\n"
   ]
  },
  {
   "cell_type": "code",
   "execution_count": 3,
   "id": "991a3cad-6af1-4b91-be2f-08f737ea9808",
   "metadata": {},
   "outputs": [],
   "source": [
    "#2) what is the difference between numpoy array and list?  \n",
    "\n",
    "\n",
    "#The main difference is that NumPy arrays are much faster and have strict requirements on the homogeneity of the objects.\n",
    "#or example, a NumPy array of strings can only contain strings and no other data types, but a Python list can contain a\n",
    "#mixture of strings, numbers, booleans and other objects."
   ]
  },
  {
   "cell_type": "code",
   "execution_count": 4,
   "id": "ff3205f5-c3ab-41a6-88a8-fcedeb51b5cc",
   "metadata": {},
   "outputs": [],
   "source": [
    "#3) to find shape,size and dimension of following array\n",
    "\n"
   ]
  },
  {
   "cell_type": "code",
   "execution_count": 18,
   "id": "b5359b91-7b86-4817-a6e9-9b1c7aeafe11",
   "metadata": {},
   "outputs": [
    {
     "name": "stdout",
     "output_type": "stream",
     "text": [
      "shape of the array is (3, 4)\n",
      "Size of the array:  12\n",
      "Dimensions in are:  2\n",
      "[[ 1  2  3  4]\n",
      " [ 5  6  7  8]\n",
      " [ 9 10 11 12]]\n"
     ]
    }
   ],
   "source": [
    "import numpy as npy\n",
    "\n",
    "                                                             \n",
    "arr2 = npy.array([[1,2,3,4],\n",
    "                 [5,6,7,8],\n",
    "                 [9,10,11, 12]])\n",
    "\n",
    "print(\"shape of the array is\", arr2.shape)\n",
    "print(\"Size of the array: \", arr2.size)\n",
    "print(\"Dimensions in are: \", arr2.ndim)\n",
    "print(arr2)\n"
   ]
  },
  {
   "cell_type": "code",
   "execution_count": 19,
   "id": "680456ad-0aa5-4571-9e8b-e1ea5e6c6d1c",
   "metadata": {},
   "outputs": [],
   "source": [
    "#4) write the python code to acces the first row of the following array\n",
    "\n",
    "\n",
    "#([[1,2,3,4],\n",
    "#[5,6,7,8],\n",
    "#[9,10,11, 12]])"
   ]
  },
  {
   "cell_type": "code",
   "execution_count": 25,
   "id": "98331611-9352-4b3f-8d20-feeb48de5d12",
   "metadata": {},
   "outputs": [
    {
     "name": "stdout",
     "output_type": "stream",
     "text": [
      "[1 2 3 4]\n"
     ]
    }
   ],
   "source": [
    "import numpy as np\n",
    "\n",
    "arr = np.array([[1,2,3,4],\n",
    "                 [5,6,7,8],\n",
    "                 [9,10,11, 12]])\n",
    "\n",
    "\n",
    "print(arr[0])"
   ]
  },
  {
   "cell_type": "code",
   "execution_count": 26,
   "id": "90b9db91-3e71-48fd-9b97-ad24f0f0a6fa",
   "metadata": {},
   "outputs": [],
   "source": [
    "#5) write the python code to acces the element at third row and fourth column of the following array\n",
    "\n"
   ]
  },
  {
   "cell_type": "code",
   "execution_count": 39,
   "id": "9f91d481-0007-4664-836b-8d8e35bf633f",
   "metadata": {},
   "outputs": [
    {
     "name": "stdout",
     "output_type": "stream",
     "text": [
      "[[ 3  4]\n",
      " [ 7  8]\n",
      " [11 12]]\n"
     ]
    }
   ],
   "source": [
    "arr = np.array([[1,2,3,4], \n",
    "                 [5,6,7,8],\n",
    "                 [9,10,11, 12]])\n",
    "\n",
    "\n",
    "print(arr[: ,[2,3]])"
   ]
  },
  {
   "cell_type": "code",
   "execution_count": 36,
   "id": "dfbbf107-7f7a-4b1d-8f11-491c0993ae50",
   "metadata": {},
   "outputs": [],
   "source": [
    "#6) to extract all odd indexed elements in the given array\n",
    "\n"
   ]
  },
  {
   "cell_type": "code",
   "execution_count": 42,
   "id": "92f06731-82a4-4cf7-b229-fc056415fe5c",
   "metadata": {},
   "outputs": [
    {
     "name": "stdout",
     "output_type": "stream",
     "text": [
      "Indices list Odd elements is :  [0 0 1 1 2 2]\n"
     ]
    }
   ],
   "source": [
    "arr = np.array([[1,2,3,4], \n",
    "                 [5,6,7,8],\n",
    "                 [9,10,11, 12]])\n",
    "\n",
    "\n",
    "bool_arr = arr % 2 != 0\n",
    "res = np.where(bool_arr)[0]\n",
    " \n",
    "print(\"Indices list Odd elements is : \", res)"
   ]
  },
  {
   "cell_type": "code",
   "execution_count": 43,
   "id": "d50c3e73-a298-44cb-949a-d7feca196b00",
   "metadata": {},
   "outputs": [],
   "source": [
    "#7) to generate a random 3*3 matrix with values 0 and 1\n",
    "\n"
   ]
  },
  {
   "cell_type": "code",
   "execution_count": 50,
   "id": "e6a08120-55f1-479a-8b57-b56ff5a235cb",
   "metadata": {},
   "outputs": [
    {
     "name": "stdout",
     "output_type": "stream",
     "text": [
      "[[1 1 1]\n",
      " [0 0 1]\n",
      " [1 0 1]]\n"
     ]
    }
   ],
   "source": [
    "import numpy as np \n",
    "\n",
    "array = np.random.randint(2, size=(3, 3)) \n",
    "print(array) \n",
    "\n"
   ]
  },
  {
   "cell_type": "code",
   "execution_count": 51,
   "id": "e9991f21-96a9-467c-b24f-3644d47f7286",
   "metadata": {},
   "outputs": [],
   "source": [
    "#8) difference between np.random.rand and np.random.randn\n",
    "\n"
   ]
  },
  {
   "cell_type": "code",
   "execution_count": 52,
   "id": "399e52b0-9774-471e-bf3a-8ed3a9a9405c",
   "metadata": {},
   "outputs": [],
   "source": [
    "#random. rand() produces random numbers from a uniform distribution over the interval [0, 1), \n",
    "# while np. random. randn() generates random numbers from a standard normal distribution."
   ]
  },
  {
   "cell_type": "code",
   "execution_count": 53,
   "id": "d171af95-85a2-406f-bd66-82bccc3c0928",
   "metadata": {},
   "outputs": [],
   "source": [
    "#9) to increase the dimension of the following array  \n",
    "\n",
    "#([[1,2,3,4],\n",
    "#[5,6,7,8],\n",
    "#[9,10,11, 12]])"
   ]
  },
  {
   "cell_type": "code",
   "execution_count": 16,
   "id": "507aaf81-6e36-4420-bff7-eb5978160c95",
   "metadata": {},
   "outputs": [
    {
     "name": "stdout",
     "output_type": "stream",
     "text": [
      "[[ 1  2  3  4  5]\n",
      " [ 6  7  8  9 10]\n",
      " [11 12  0  0  0]\n",
      " [ 0  0  0  0  0]\n",
      " [ 0  0  0  0  0]]\n"
     ]
    }
   ],
   "source": [
    "import numpy as np \n",
    "\n",
    "x = np.array([[1,2,3,4], \n",
    "                 [5,6,7,8],\n",
    "                 [9,10,11, 12]])\n",
    "\n",
    "\n",
    "\n",
    "x.resize(5, 5) \n",
    "\n",
    "print(x) \n",
    "\n"
   ]
  },
  {
   "cell_type": "code",
   "execution_count": 17,
   "id": "d5c1d3c0-54fc-4986-9cf5-eb1a7540a13d",
   "metadata": {},
   "outputs": [],
   "source": [
    "#10) to transpose the following array in numpy\n",
    "\n",
    "#([[1,2,3,4], \n",
    "#[5,6,7,8],\n",
    "#[9,10,11, 12]])\n"
   ]
  },
  {
   "cell_type": "code",
   "execution_count": 19,
   "id": "94feaadc-adc8-4eb8-8a9c-0a326b728695",
   "metadata": {},
   "outputs": [
    {
     "name": "stdout",
     "output_type": "stream",
     "text": [
      "[[ 1  2  3  4]\n",
      " [ 5  6  7  8]\n",
      " [ 9 10 11 12]]\n",
      "\n",
      "[[ 1  5  9]\n",
      " [ 2  6 10]\n",
      " [ 3  7 11]\n",
      " [ 4  8 12]]\n"
     ]
    }
   ],
   "source": [
    "import numpy as np\n",
    "\n",
    "x= np.array([[1,2,3,4], \n",
    "                 [5,6,7,8],\n",
    "                 [9,10,11, 12]])\n",
    "\n",
    "                                            # before transpose\n",
    "print(x, end ='\\n\\n')\n",
    "\n",
    "                                            # after transpose\n",
    "print(x.transpose())\n",
    "\n",
    "\n",
    "                                             \n"
   ]
  },
  {
   "cell_type": "code",
   "execution_count": 20,
   "id": "0e0fe617-3352-4315-a7c7-7c3c299c9815",
   "metadata": {},
   "outputs": [],
   "source": [
    "#11) the following matrix: A=[1,2,3,4][5,6,7,8][9,10,11,12]]    B=[[1,2,3,4][5,6,7,8][9,10,11,12]]\n",
    "\n"
   ]
  },
  {
   "cell_type": "code",
   "execution_count": 21,
   "id": "11f779b8-9196-4cf2-aadc-2354c545c11d",
   "metadata": {},
   "outputs": [],
   "source": [
    "# index wise multiplication\n"
   ]
  },
  {
   "cell_type": "code",
   "execution_count": 23,
   "id": "4bd103c2-e5bd-4908-8844-0c38533feaa1",
   "metadata": {},
   "outputs": [
    {
     "name": "stdout",
     "output_type": "stream",
     "text": [
      "1st Input array :  [[ 1  2  3  4]\n",
      " [ 5  6  7  8]\n",
      " [ 9 10 11 12]]\n",
      "2nd Input array :  [[ 1  2  3  4]\n",
      " [ 5  6  7  8]\n",
      " [ 9 10 11 12]]\n",
      "Resultant output array:  [[  1   4   9  16]\n",
      " [ 25  36  49  64]\n",
      " [ 81 100 121 144]]\n"
     ]
    }
   ],
   "source": [
    "import numpy as np\n",
    "\n",
    "\n",
    "in_arr1=np.matrix([[1,2,3,4],[5,6,7,8],[9,10,11,12]]) \n",
    "in_arr2 = np.matrix([[1,2,3,4],[5,6,7,8],[9,10,11,12]]) \n",
    "\t\n",
    "print (\"1st Input array : \", in_arr1) \n",
    "print (\"2nd Input array : \", in_arr2) \n",
    "\n",
    "out_arr=np.array(in_arr1)*np.array(in_arr2) \n",
    "print (\"Resultant output array: \", out_arr) \n"
   ]
  },
  {
   "cell_type": "code",
   "execution_count": 24,
   "id": "df4f4d4b-16ab-401d-baeb-fb7c04497291",
   "metadata": {},
   "outputs": [],
   "source": [
    "# matrix multiplication\n",
    "\n"
   ]
  },
  {
   "cell_type": "code",
   "execution_count": 37,
   "id": "434097c7-579c-4a04-9284-22d9fde81b3c",
   "metadata": {},
   "outputs": [
    {
     "name": "stdout",
     "output_type": "stream",
     "text": [
      "[[ 63 320  83]\n",
      " [ 77 484 102]\n",
      " [ 84 248 117]]\n"
     ]
    }
   ],
   "source": [
    "import numpy as np\n",
    "\n",
    "mat1 = ([1, 6, 5],[3 ,4, 8],[2, 12, 3])\n",
    "mat2 = ([3, 4, 6],[5, 6, 7],[6,56, 7])\n",
    "\n",
    "res = np.dot(mat1,mat2)\n",
    "\n",
    "print(res)\n"
   ]
  },
  {
   "cell_type": "code",
   "execution_count": 33,
   "id": "325eb990-802e-4ae0-8957-6e6a501cc584",
   "metadata": {},
   "outputs": [],
   "source": [
    "# add both matrices\n",
    "\n"
   ]
  },
  {
   "cell_type": "code",
   "execution_count": 34,
   "id": "917403dd-3409-4a13-94f5-4f87ebc4b83a",
   "metadata": {},
   "outputs": [
    {
     "name": "stdout",
     "output_type": "stream",
     "text": [
      "[[10 10 10]\n",
      " [10 10 10]\n",
      " [10 10 10]]\n"
     ]
    }
   ],
   "source": [
    "import numpy as np\n",
    " \n",
    "X = [[1,2,3],\n",
    "    [4 ,5,6],\n",
    "    [7 ,8,9]]\n",
    " \n",
    "Y = [[9,8,7],\n",
    "    [6,5,4],\n",
    "    [3,2,1]]\n",
    "\n",
    "result = np.array(X) + np.array(Y)\n",
    "\n",
    "print(result)\n"
   ]
  },
  {
   "cell_type": "code",
   "execution_count": 38,
   "id": "758dabf1-b151-4dd9-9392-260a9253ec81",
   "metadata": {},
   "outputs": [],
   "source": [
    "# subtrarct matrix B from A\n",
    "\n"
   ]
  },
  {
   "cell_type": "code",
   "execution_count": 40,
   "id": "0f192651-69f6-4e14-821e-53203bd83696",
   "metadata": {},
   "outputs": [
    {
     "name": "stdout",
     "output_type": "stream",
     "text": [
      "Printing elements of first matrix\n",
      "[[1 2]\n",
      " [3 4]]\n",
      "Printing elements of second matrix\n",
      "[[4 5]\n",
      " [6 7]]\n",
      "subtraction of two matrix\n",
      "[[-3 -3]\n",
      " [-3 -3]]\n"
     ]
    }
   ],
   "source": [
    "import numpy as np\n",
    "\n",
    "A = np.array([[1, 2], [3, 4]])\n",
    "\n",
    "B = np.array([[4, 5], [6, 7]])\n",
    "\n",
    "print(\"Printing elements of first matrix\")\n",
    "print(A)\n",
    "print(\"Printing elements of second matrix\")\n",
    "print(B)\n",
    "\n",
    "print(\"subtraction of two matrix\")\n",
    "print(np.subtract(A, B))\n"
   ]
  },
  {
   "cell_type": "code",
   "execution_count": 41,
   "id": "4b5b0eaf-42e4-4880-a18e-014cef4a6827",
   "metadata": {},
   "outputs": [],
   "source": [
    "# divide matrix b by a\n",
    "\n"
   ]
  },
  {
   "cell_type": "code",
   "execution_count": 43,
   "id": "60faf784-50b2-41e3-8955-68a0271644cd",
   "metadata": {},
   "outputs": [
    {
     "name": "stdout",
     "output_type": "stream",
     "text": [
      "arr1\t\t :  [2, 27, 2, 21, 23]\n",
      "arr2\t\t :  [2, 3, 4, 5, 6]\n",
      "\n",
      "Output array : \n",
      " [1.         9.         0.5        4.2        3.83333333]\n"
     ]
    }
   ],
   "source": [
    "import numpy as np \n",
    "\n",
    "arr1 = [2, 27, 2, 21, 23] \n",
    "arr2 = [2, 3, 4, 5, 6] \n",
    "print (\"arr1\t\t : \", arr1) \n",
    "print (\"arr2\t\t : \", arr2) \n",
    "\n",
    "out = np.divide(arr1, arr2) \n",
    "print (\"\\nOutput array : \\n\", out) \n"
   ]
  },
  {
   "cell_type": "code",
   "execution_count": 44,
   "id": "53874aca-c1c0-4840-8a23-c0278cb17783",
   "metadata": {},
   "outputs": [],
   "source": [
    "#12) which function in  numpy can be used to swap the byte order of an array?\n"
   ]
  },
  {
   "cell_type": "code",
   "execution_count": 45,
   "id": "00b38865-4bd9-4c59-8721-63e55eb7dfee",
   "metadata": {},
   "outputs": [
    {
     "name": "stdout",
     "output_type": "stream",
     "text": [
      "[  256     1 25600]\n"
     ]
    }
   ],
   "source": [
    " \n",
    "# byteswap() function \n",
    "import numpy as np\n",
    "\n",
    "\n",
    "                                                      # a is an array of integers. \n",
    "a = np.array([1, 256, 100], dtype = np.int16) \n",
    "\n",
    "print(a.byteswap(True)) \n"
   ]
  },
  {
   "cell_type": "code",
   "execution_count": 46,
   "id": "14992338-5f44-49e9-be70-e33569f3105d",
   "metadata": {},
   "outputs": [],
   "source": [
    "#13) significance of np.linalg.inv function\n",
    "\n"
   ]
  },
  {
   "cell_type": "code",
   "execution_count": 47,
   "id": "e751f28d-7117-4761-85ba-a34b89321672",
   "metadata": {},
   "outputs": [
    {
     "name": "stdout",
     "output_type": "stream",
     "text": [
      "[[ 0.17647059 -0.00326797 -0.02287582]\n",
      " [ 0.05882353 -0.13071895  0.08496732]\n",
      " [-0.11764706  0.1503268   0.05228758]]\n"
     ]
    }
   ],
   "source": [
    "# the function is used to calculate the inverse of a matrix\n",
    "\n",
    "import numpy as np\n",
    "\n",
    "A = np.array([[6, 1, 1],\n",
    "\t\t\t[4, -2, 5],\n",
    "\t\t\t[2, 8, 7]])\n",
    "\n",
    "                              # Calculating the inverse of the matrix\n",
    "print(np.linalg.inv(A))\n"
   ]
  },
  {
   "cell_type": "code",
   "execution_count": 48,
   "id": "888b9e02-3b73-42a3-9e9c-a11b8b8cfe6e",
   "metadata": {},
   "outputs": [],
   "source": [
    "#14) what does the np.reshape do?\n",
    "\n"
   ]
  },
  {
   "cell_type": "code",
   "execution_count": 50,
   "id": "ce5a3ae0-baa7-4f65-8b99-7273060df543",
   "metadata": {},
   "outputs": [
    {
     "name": "stdout",
     "output_type": "stream",
     "text": [
      "Original array:\n"
     ]
    },
    {
     "data": {
      "text/plain": [
       "array([1, 2, 3, 4, 5, 6])"
      ]
     },
     "metadata": {},
     "output_type": "display_data"
    },
    {
     "name": "stdout",
     "output_type": "stream",
     "text": [
      "Changed array\n"
     ]
    },
    {
     "data": {
      "text/plain": [
       "array([[1, 2, 3],\n",
       "       [4, 5, 6]])"
      ]
     },
     "metadata": {},
     "output_type": "display_data"
    }
   ],
   "source": [
    "# the np.reshape() function changes the shape of the array without changing the data.\n",
    "\n",
    "import numpy as np \n",
    "\t\n",
    "x= np.array([1, 2, 3, 4, 5, 6]) \n",
    "print(\"Original array:\") \n",
    "display(x) \n",
    "\n",
    "                                        # using reshape() \n",
    "print(\"Changed array\") \n",
    "display(x.reshape(2, 3)) \t\n"
   ]
  },
  {
   "cell_type": "code",
   "execution_count": 51,
   "id": "3af0fe5c-77bf-4705-bb9d-68589a730f31",
   "metadata": {},
   "outputs": [],
   "source": [
    "#15) what is broadcasting in  numpy\n",
    "\n"
   ]
  },
  {
   "cell_type": "code",
   "execution_count": 52,
   "id": "da8fe2da-5348-498a-bcf7-ba54a6077350",
   "metadata": {},
   "outputs": [
    {
     "name": "stdout",
     "output_type": "stream",
     "text": [
      "[[11 22 33]\n",
      " [10 20 30]]\n",
      "4\n",
      "[[15 26 37]\n",
      " [14 24 34]]\n"
     ]
    }
   ],
   "source": [
    "# The term broadcasting refers to the ability of NumPy to treat arrays with different dimensions during arithmetic\n",
    "# operations. This process involves certain rules that allow the smaller array to be ‘broadcast’ across the larger one, \n",
    "# ensuring that they have compatible shapes for these operations.\n",
    "\n",
    "import numpy as np \n",
    "A = np.array([[11, 22, 33], [10, 20, 30]]) \n",
    "print(A) \n",
    "\n",
    "b = 4\n",
    "print(b) \n",
    "\n",
    "C = A + b \n",
    "print(C)\n"
   ]
  },
  {
   "cell_type": "code",
   "execution_count": null,
   "id": "557cad24-a5c9-40c6-9c8b-955ee61d1796",
   "metadata": {},
   "outputs": [],
   "source": []
  }
 ],
 "metadata": {
  "kernelspec": {
   "display_name": "Python 3 (ipykernel)",
   "language": "python",
   "name": "python3"
  },
  "language_info": {
   "codemirror_mode": {
    "name": "ipython",
    "version": 3
   },
   "file_extension": ".py",
   "mimetype": "text/x-python",
   "name": "python",
   "nbconvert_exporter": "python",
   "pygments_lexer": "ipython3",
   "version": "3.10.8"
  }
 },
 "nbformat": 4,
 "nbformat_minor": 5
}
